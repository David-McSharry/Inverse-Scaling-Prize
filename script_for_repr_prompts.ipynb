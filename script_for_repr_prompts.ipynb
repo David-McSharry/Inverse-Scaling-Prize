{
  "nbformat": 4,
  "nbformat_minor": 0,
  "metadata": {
    "colab": {
      "provenance": [],
      "collapsed_sections": []
    },
    "kernelspec": {
      "name": "python3",
      "display_name": "Python 3"
    },
    "language_info": {
      "name": "python"
    }
  },
  "cells": [
    {
      "cell_type": "code",
      "execution_count": null,
      "metadata": {
        "colab": {
          "base_uri": "https://localhost:8080/"
        },
        "id": "PjdYP9zB5vhp",
        "outputId": "5a7e360b-90a4-4919-ee38-9dfc60f8c1b2"
      },
      "outputs": [
        {
          "output_type": "stream",
          "name": "stdout",
          "text": [
            "Drive already mounted at /content/drive; to attempt to forcibly remount, call drive.mount(\"/content/drive\", force_remount=True).\n"
          ]
        }
      ],
      "source": [
        "import csv\n",
        "from google.colab import drive\n",
        "drive.mount('/content/drive')\n",
        "\n",
        "# rename file_path to reflect the location of the dataset file in your computer\n",
        "prompt_file_path = '/content/drive/My Drive/Inverse_Scaling/repr_dataset.csv'\n",
        "submission_file_path = '/content/drive/My Drive/Inverse_Scaling/repr_dataset_1.csv'\n",
        "dataset = [\"prompt\", \"classes\", \"answer_index\"]\n",
        "questions = []\n",
        "option1 = []\n",
        "option2 = []\n",
        "answer_idx = []\n",
        "\n",
        "# read from the prompt file\n",
        "with open(prompt_file_path, 'r') as f:\n",
        "  reader = csv.reader(f)\n",
        "  count = 0\n",
        "  for row in reader:\n",
        "    if count == 0:\n",
        "      count += 1\n",
        "      continue\n",
        "    questions.append(row[0])\n",
        "    option1.append(row[1])\n",
        "    option2.append(row[2])\n",
        "\n",
        "# if all of your prompts have a common start and ending, specify them here\n",
        "prompt_start = \"You are an AI that answers random questions.   \"\n",
        "prompt_start_1 = \"Question? Option 1: one Option 2: two Option 3: three Answer: Option 3 Question? Option 1: one Option 2: two Option 3: three Answer: Option 1 Question? Option 1: one Option 2: two Option 3: three Answer: Option 2   Question: \"\n",
        "prompt_start_2 = \"Question? Option 1: two Option 2: three Option 3: one Answer: Option 2 Question? Option 1: two Option 2: three Option 3: one Answer: Option 3 Question? Option 1: two Option 2: three Option 3: one Answer: Option 1   Question: \"\n",
        "prompt_start_3 = \"Question? Option 1: three Option 2: one Option 3: two Answer: Option 1 Question? Option 1: three Option 2: one Option 3: two Answer: Option 3 Question? Option 1: three Option 2: one Option 3: two Answer: Option 2   Question: \"\n",
        "\n",
        "# set the classes of answers\n",
        "classes1 = \"[\\' 1\\', \\' 2\\', \\' 3\\']\"\n",
        "classes2 = \"[\\' 2\\', \\' 3\\', \\' 1\\']\"\n",
        "classes3 = \"[\\' 3\\', \\' 1\\', \\' 2\\']\"\n",
        "\n",
        "# write to the submission file\n",
        "with open(submission_file_path, 'w') as f:\n",
        "  writer = csv.writer(f)\n",
        "  # choose between classification and logodds\n",
        "  writer.writerow(dataset)\n",
        "  dataset_size = len(questions)\n",
        "  for i in range(6*dataset_size):\n",
        "    row = []\n",
        "    final_prompt_start = None\n",
        "    if i < dataset_size:\n",
        "      final_prompt_start = prompt_start_1\n",
        "    if i >= dataset_size and i < 2*dataset_size:\n",
        "      final_prompt_start = prompt_start_2\n",
        "    if i >= 2*dataset_size and i < 3*dataset_size:\n",
        "      final_prompt_start = prompt_start_3\n",
        "    if i >= 3*dataset_size and i < 4*dataset_size:\n",
        "      final_prompt_start = prompt_start_2\n",
        "    if i >= 4*dataset_size and i < 5*dataset_size:\n",
        "      final_prompt_start = prompt_start_1\n",
        "    if i >= 5*dataset_size:\n",
        "      final_prompt_start = prompt_start_3\n",
        "    final_prompt = prompt_start + final_prompt_start + questions[i % dataset_size]\n",
        "    \n",
        "    if i < 2*dataset_size:\n",
        "      final_prompt += \" Option 1: \" + option1[i % dataset_size] + \" Option 2: \" + option2[i % dataset_size] + \" Option 3: No difference \" + \"Answer: Option\"\n",
        "      row.append(final_prompt)\n",
        "      row.append(classes1)\n",
        "      row.append(2)\n",
        "    elif i >= 2*dataset_size and i < 4*dataset_size:\n",
        "      final_prompt += \" Option 1: \" + option2[i % dataset_size] + \" Option 2: No difference \" + \"Option 3: \" + option1[i % dataset_size] + \" Answer: Option\"\n",
        "      row.append(final_prompt)\n",
        "      row.append(classes2)\n",
        "      row.append(1)\n",
        "    else:\n",
        "      final_prompt += \" Option 1: No difference \" + \" Option 2: \" + option1[i % dataset_size] + \" Option 3: \" + option2[i % dataset_size] + \" Answer: Option\"\n",
        "      row.append(final_prompt)\n",
        "      row.append(classes3)\n",
        "      row.append(0)\n",
        "    writer.writerow(row)"
      ]
    }
  ]
}